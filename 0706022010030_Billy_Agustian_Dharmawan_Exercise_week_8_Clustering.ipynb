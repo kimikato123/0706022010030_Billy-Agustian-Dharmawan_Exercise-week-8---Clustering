{
  "nbformat": 4,
  "nbformat_minor": 0,
  "metadata": {
    "colab": {
      "provenance": [],
      "collapsed_sections": []
    },
    "kernelspec": {
      "name": "python3",
      "display_name": "Python 3"
    },
    "language_info": {
      "name": "python"
    }
  },
  "cells": [
    {
      "cell_type": "code",
      "execution_count": 97,
      "metadata": {
        "colab": {
          "base_uri": "https://localhost:8080/",
          "height": 572
        },
        "id": "eHhaHG6L1j8G",
        "outputId": "18296cb1-d11e-4f12-9ed6-cb961c7e5113"
      },
      "outputs": [
        {
          "output_type": "execute_result",
          "data": {
            "text/plain": [
              "      Area Category       Nama Daerah Luas Tanah (m2) Luas Bangunan (m2)  \\\n",
              "0               NaN               NaN             NaN                NaN   \n",
              "1    Below Standard  Setro Baru Utara           30,00              60,00   \n",
              "2          Standard          Kenjeran          170,00             170,00   \n",
              "3    Sangat Premium          Kenjeran          187,00             250,00   \n",
              "4           Premium          Kenjeran          350,00             600,00   \n",
              "..              ...               ...             ...                ...   \n",
              "303        Standard       Gununganyar              47                 34   \n",
              "304  Sangat Premium          Sukolilo             300                212   \n",
              "305         Premium         Mulyorejo             102                156   \n",
              "306        Standard          Sukolilo              98                170   \n",
              "307  Below Standard        Teuku Umar             193                300   \n",
              "\n",
              "     Jumlah Kamar  Jumlah Kamar Mandi Tingkat/Lantai   \\\n",
              "0             NaN                 NaN             NaN   \n",
              "1             2.0                 1.0               2   \n",
              "2             5.0                 4.0               2   \n",
              "3             5.0                 5.0               2   \n",
              "4             5.0                 5.0               2   \n",
              "..            ...                 ...             ...   \n",
              "303           2.0                 1.0               1   \n",
              "304           4.0                 4.0               1   \n",
              "305           4.0                 2.0               2   \n",
              "306           4.0                 3.0               2   \n",
              "307           5.0                 2.0               2   \n",
              "\n",
              "    Harga Penawaran (dari Owner) Terjual/Belum Arah Hadap Rumah  \\\n",
              "0                            NaN           NaN              NaN   \n",
              "1                      287799000         Belum              NaN   \n",
              "2                     2699999999         Belum          Selatan   \n",
              "3                     3100000000         Belum            Utara   \n",
              "4                     5000000000         Belum            Barat   \n",
              "..                           ...           ...              ...   \n",
              "303                    450000000         Belum            Utara   \n",
              "304                   5250000000         Belum          Selatan   \n",
              "305                   1950000000         Belum          Selatan   \n",
              "306                   1550000000         Belum              NaN   \n",
              "307                   5000000000         Belum              NaN   \n",
              "\n",
              "                    Posisi Rumah Lebar Jalan Depan Rumah (ROW)  \n",
              "0                            NaN                           NaN  \n",
              "1                       Standard                     < 1 Mobil  \n",
              "2    Cul De Sac/Ujung Gang Buntu                     1-2 Mobil  \n",
              "3                       Standard                     1-2 Mobil  \n",
              "4                       Standard                     1-2 Mobil  \n",
              "..                           ...                           ...  \n",
              "303                          NaN                     > 2 Mobil  \n",
              "304                          NaN                           NaN  \n",
              "305                     Standard                     1-2 Mobil  \n",
              "306                     Standard                     > 2 Mobil  \n",
              "307                     Standard                     > 2 Mobil  \n",
              "\n",
              "[308 rows x 12 columns]"
            ],
            "text/html": [
              "\n",
              "  <div id=\"df-0f00fd14-79fd-4d1a-8a0a-2fa5f6b36b3f\">\n",
              "    <div class=\"colab-df-container\">\n",
              "      <div>\n",
              "<style scoped>\n",
              "    .dataframe tbody tr th:only-of-type {\n",
              "        vertical-align: middle;\n",
              "    }\n",
              "\n",
              "    .dataframe tbody tr th {\n",
              "        vertical-align: top;\n",
              "    }\n",
              "\n",
              "    .dataframe thead th {\n",
              "        text-align: right;\n",
              "    }\n",
              "</style>\n",
              "<table border=\"1\" class=\"dataframe\">\n",
              "  <thead>\n",
              "    <tr style=\"text-align: right;\">\n",
              "      <th></th>\n",
              "      <th>Area Category</th>\n",
              "      <th>Nama Daerah</th>\n",
              "      <th>Luas Tanah (m2)</th>\n",
              "      <th>Luas Bangunan (m2)</th>\n",
              "      <th>Jumlah Kamar</th>\n",
              "      <th>Jumlah Kamar Mandi</th>\n",
              "      <th>Tingkat/Lantai</th>\n",
              "      <th>Harga Penawaran (dari Owner)</th>\n",
              "      <th>Terjual/Belum</th>\n",
              "      <th>Arah Hadap Rumah</th>\n",
              "      <th>Posisi Rumah</th>\n",
              "      <th>Lebar Jalan Depan Rumah (ROW)</th>\n",
              "    </tr>\n",
              "  </thead>\n",
              "  <tbody>\n",
              "    <tr>\n",
              "      <th>0</th>\n",
              "      <td>NaN</td>\n",
              "      <td>NaN</td>\n",
              "      <td>NaN</td>\n",
              "      <td>NaN</td>\n",
              "      <td>NaN</td>\n",
              "      <td>NaN</td>\n",
              "      <td>NaN</td>\n",
              "      <td>NaN</td>\n",
              "      <td>NaN</td>\n",
              "      <td>NaN</td>\n",
              "      <td>NaN</td>\n",
              "      <td>NaN</td>\n",
              "    </tr>\n",
              "    <tr>\n",
              "      <th>1</th>\n",
              "      <td>Below Standard</td>\n",
              "      <td>Setro Baru Utara</td>\n",
              "      <td>30,00</td>\n",
              "      <td>60,00</td>\n",
              "      <td>2.0</td>\n",
              "      <td>1.0</td>\n",
              "      <td>2</td>\n",
              "      <td>287799000</td>\n",
              "      <td>Belum</td>\n",
              "      <td>NaN</td>\n",
              "      <td>Standard</td>\n",
              "      <td>&lt; 1 Mobil</td>\n",
              "    </tr>\n",
              "    <tr>\n",
              "      <th>2</th>\n",
              "      <td>Standard</td>\n",
              "      <td>Kenjeran</td>\n",
              "      <td>170,00</td>\n",
              "      <td>170,00</td>\n",
              "      <td>5.0</td>\n",
              "      <td>4.0</td>\n",
              "      <td>2</td>\n",
              "      <td>2699999999</td>\n",
              "      <td>Belum</td>\n",
              "      <td>Selatan</td>\n",
              "      <td>Cul De Sac/Ujung Gang Buntu</td>\n",
              "      <td>1-2 Mobil</td>\n",
              "    </tr>\n",
              "    <tr>\n",
              "      <th>3</th>\n",
              "      <td>Sangat Premium</td>\n",
              "      <td>Kenjeran</td>\n",
              "      <td>187,00</td>\n",
              "      <td>250,00</td>\n",
              "      <td>5.0</td>\n",
              "      <td>5.0</td>\n",
              "      <td>2</td>\n",
              "      <td>3100000000</td>\n",
              "      <td>Belum</td>\n",
              "      <td>Utara</td>\n",
              "      <td>Standard</td>\n",
              "      <td>1-2 Mobil</td>\n",
              "    </tr>\n",
              "    <tr>\n",
              "      <th>4</th>\n",
              "      <td>Premium</td>\n",
              "      <td>Kenjeran</td>\n",
              "      <td>350,00</td>\n",
              "      <td>600,00</td>\n",
              "      <td>5.0</td>\n",
              "      <td>5.0</td>\n",
              "      <td>2</td>\n",
              "      <td>5000000000</td>\n",
              "      <td>Belum</td>\n",
              "      <td>Barat</td>\n",
              "      <td>Standard</td>\n",
              "      <td>1-2 Mobil</td>\n",
              "    </tr>\n",
              "    <tr>\n",
              "      <th>...</th>\n",
              "      <td>...</td>\n",
              "      <td>...</td>\n",
              "      <td>...</td>\n",
              "      <td>...</td>\n",
              "      <td>...</td>\n",
              "      <td>...</td>\n",
              "      <td>...</td>\n",
              "      <td>...</td>\n",
              "      <td>...</td>\n",
              "      <td>...</td>\n",
              "      <td>...</td>\n",
              "      <td>...</td>\n",
              "    </tr>\n",
              "    <tr>\n",
              "      <th>303</th>\n",
              "      <td>Standard</td>\n",
              "      <td>Gununganyar</td>\n",
              "      <td>47</td>\n",
              "      <td>34</td>\n",
              "      <td>2.0</td>\n",
              "      <td>1.0</td>\n",
              "      <td>1</td>\n",
              "      <td>450000000</td>\n",
              "      <td>Belum</td>\n",
              "      <td>Utara</td>\n",
              "      <td>NaN</td>\n",
              "      <td>&gt; 2 Mobil</td>\n",
              "    </tr>\n",
              "    <tr>\n",
              "      <th>304</th>\n",
              "      <td>Sangat Premium</td>\n",
              "      <td>Sukolilo</td>\n",
              "      <td>300</td>\n",
              "      <td>212</td>\n",
              "      <td>4.0</td>\n",
              "      <td>4.0</td>\n",
              "      <td>1</td>\n",
              "      <td>5250000000</td>\n",
              "      <td>Belum</td>\n",
              "      <td>Selatan</td>\n",
              "      <td>NaN</td>\n",
              "      <td>NaN</td>\n",
              "    </tr>\n",
              "    <tr>\n",
              "      <th>305</th>\n",
              "      <td>Premium</td>\n",
              "      <td>Mulyorejo</td>\n",
              "      <td>102</td>\n",
              "      <td>156</td>\n",
              "      <td>4.0</td>\n",
              "      <td>2.0</td>\n",
              "      <td>2</td>\n",
              "      <td>1950000000</td>\n",
              "      <td>Belum</td>\n",
              "      <td>Selatan</td>\n",
              "      <td>Standard</td>\n",
              "      <td>1-2 Mobil</td>\n",
              "    </tr>\n",
              "    <tr>\n",
              "      <th>306</th>\n",
              "      <td>Standard</td>\n",
              "      <td>Sukolilo</td>\n",
              "      <td>98</td>\n",
              "      <td>170</td>\n",
              "      <td>4.0</td>\n",
              "      <td>3.0</td>\n",
              "      <td>2</td>\n",
              "      <td>1550000000</td>\n",
              "      <td>Belum</td>\n",
              "      <td>NaN</td>\n",
              "      <td>Standard</td>\n",
              "      <td>&gt; 2 Mobil</td>\n",
              "    </tr>\n",
              "    <tr>\n",
              "      <th>307</th>\n",
              "      <td>Below Standard</td>\n",
              "      <td>Teuku Umar</td>\n",
              "      <td>193</td>\n",
              "      <td>300</td>\n",
              "      <td>5.0</td>\n",
              "      <td>2.0</td>\n",
              "      <td>2</td>\n",
              "      <td>5000000000</td>\n",
              "      <td>Belum</td>\n",
              "      <td>NaN</td>\n",
              "      <td>Standard</td>\n",
              "      <td>&gt; 2 Mobil</td>\n",
              "    </tr>\n",
              "  </tbody>\n",
              "</table>\n",
              "<p>308 rows × 12 columns</p>\n",
              "</div>\n",
              "      <button class=\"colab-df-convert\" onclick=\"convertToInteractive('df-0f00fd14-79fd-4d1a-8a0a-2fa5f6b36b3f')\"\n",
              "              title=\"Convert this dataframe to an interactive table.\"\n",
              "              style=\"display:none;\">\n",
              "        \n",
              "  <svg xmlns=\"http://www.w3.org/2000/svg\" height=\"24px\"viewBox=\"0 0 24 24\"\n",
              "       width=\"24px\">\n",
              "    <path d=\"M0 0h24v24H0V0z\" fill=\"none\"/>\n",
              "    <path d=\"M18.56 5.44l.94 2.06.94-2.06 2.06-.94-2.06-.94-.94-2.06-.94 2.06-2.06.94zm-11 1L8.5 8.5l.94-2.06 2.06-.94-2.06-.94L8.5 2.5l-.94 2.06-2.06.94zm10 10l.94 2.06.94-2.06 2.06-.94-2.06-.94-.94-2.06-.94 2.06-2.06.94z\"/><path d=\"M17.41 7.96l-1.37-1.37c-.4-.4-.92-.59-1.43-.59-.52 0-1.04.2-1.43.59L10.3 9.45l-7.72 7.72c-.78.78-.78 2.05 0 2.83L4 21.41c.39.39.9.59 1.41.59.51 0 1.02-.2 1.41-.59l7.78-7.78 2.81-2.81c.8-.78.8-2.07 0-2.86zM5.41 20L4 18.59l7.72-7.72 1.47 1.35L5.41 20z\"/>\n",
              "  </svg>\n",
              "      </button>\n",
              "      \n",
              "  <style>\n",
              "    .colab-df-container {\n",
              "      display:flex;\n",
              "      flex-wrap:wrap;\n",
              "      gap: 12px;\n",
              "    }\n",
              "\n",
              "    .colab-df-convert {\n",
              "      background-color: #E8F0FE;\n",
              "      border: none;\n",
              "      border-radius: 50%;\n",
              "      cursor: pointer;\n",
              "      display: none;\n",
              "      fill: #1967D2;\n",
              "      height: 32px;\n",
              "      padding: 0 0 0 0;\n",
              "      width: 32px;\n",
              "    }\n",
              "\n",
              "    .colab-df-convert:hover {\n",
              "      background-color: #E2EBFA;\n",
              "      box-shadow: 0px 1px 2px rgba(60, 64, 67, 0.3), 0px 1px 3px 1px rgba(60, 64, 67, 0.15);\n",
              "      fill: #174EA6;\n",
              "    }\n",
              "\n",
              "    [theme=dark] .colab-df-convert {\n",
              "      background-color: #3B4455;\n",
              "      fill: #D2E3FC;\n",
              "    }\n",
              "\n",
              "    [theme=dark] .colab-df-convert:hover {\n",
              "      background-color: #434B5C;\n",
              "      box-shadow: 0px 1px 3px 1px rgba(0, 0, 0, 0.15);\n",
              "      filter: drop-shadow(0px 1px 2px rgba(0, 0, 0, 0.3));\n",
              "      fill: #FFFFFF;\n",
              "    }\n",
              "  </style>\n",
              "\n",
              "      <script>\n",
              "        const buttonEl =\n",
              "          document.querySelector('#df-0f00fd14-79fd-4d1a-8a0a-2fa5f6b36b3f button.colab-df-convert');\n",
              "        buttonEl.style.display =\n",
              "          google.colab.kernel.accessAllowed ? 'block' : 'none';\n",
              "\n",
              "        async function convertToInteractive(key) {\n",
              "          const element = document.querySelector('#df-0f00fd14-79fd-4d1a-8a0a-2fa5f6b36b3f');\n",
              "          const dataTable =\n",
              "            await google.colab.kernel.invokeFunction('convertToInteractive',\n",
              "                                                     [key], {});\n",
              "          if (!dataTable) return;\n",
              "\n",
              "          const docLinkHtml = 'Like what you see? Visit the ' +\n",
              "            '<a target=\"_blank\" href=https://colab.research.google.com/notebooks/data_table.ipynb>data table notebook</a>'\n",
              "            + ' to learn more about interactive tables.';\n",
              "          element.innerHTML = '';\n",
              "          dataTable['output_type'] = 'display_data';\n",
              "          await google.colab.output.renderOutput(dataTable, element);\n",
              "          const docLink = document.createElement('div');\n",
              "          docLink.innerHTML = docLinkHtml;\n",
              "          element.appendChild(docLink);\n",
              "        }\n",
              "      </script>\n",
              "    </div>\n",
              "  </div>\n",
              "  "
            ]
          },
          "metadata": {},
          "execution_count": 97
        }
      ],
      "source": [
        "import pandas as pd\n",
        "path =\"https://raw.githubusercontent.com/kimikato123/0706022010030-Home-Exercise-Unsurpervised-clustering/main/Dataset.csv\"\n",
        "df = pd.read_csv(path, sep = ';')\n",
        "df"
      ]
    },
    {
      "cell_type": "code",
      "source": [],
      "metadata": {
        "id": "hGQjdv_R5RwW"
      },
      "execution_count": 97,
      "outputs": []
    },
    {
      "cell_type": "code",
      "source": [
        "df.isnull().sum()"
      ],
      "metadata": {
        "colab": {
          "base_uri": "https://localhost:8080/"
        },
        "id": "PC1ZaUGK6ekM",
        "outputId": "d310df79-7166-45b4-818f-1515f9a02667"
      },
      "execution_count": 98,
      "outputs": [
        {
          "output_type": "execute_result",
          "data": {
            "text/plain": [
              "Area Category                      1\n",
              "Nama Daerah                        1\n",
              "Luas Tanah (m2)                    1\n",
              "Luas Bangunan (m2)                 1\n",
              "Jumlah Kamar                       1\n",
              "Jumlah Kamar Mandi                 2\n",
              "Tingkat/Lantai                     2\n",
              "Harga Penawaran (dari Owner)       1\n",
              "Terjual/Belum                      1\n",
              "Arah Hadap Rumah                  83\n",
              "Posisi Rumah                     116\n",
              "Lebar Jalan Depan Rumah (ROW)     42\n",
              "dtype: int64"
            ]
          },
          "metadata": {},
          "execution_count": 98
        }
      ]
    },
    {
      "cell_type": "code",
      "source": [
        "df.fillna(method='ffill', inplace=True)"
      ],
      "metadata": {
        "id": "AVriAB3x60HX"
      },
      "execution_count": 99,
      "outputs": []
    },
    {
      "cell_type": "code",
      "source": [
        "df.dropna(inplace=True)\n",
        "df.isnull().sum()"
      ],
      "metadata": {
        "colab": {
          "base_uri": "https://localhost:8080/"
        },
        "id": "IH2FmwWn61c1",
        "outputId": "1825c833-0891-45ea-88c1-4c062f30e18c"
      },
      "execution_count": 100,
      "outputs": [
        {
          "output_type": "execute_result",
          "data": {
            "text/plain": [
              "Area Category                    0\n",
              "Nama Daerah                      0\n",
              "Luas Tanah (m2)                  0\n",
              "Luas Bangunan (m2)               0\n",
              "Jumlah Kamar                     0\n",
              "Jumlah Kamar Mandi               0\n",
              "Tingkat/Lantai                   0\n",
              "Harga Penawaran (dari Owner)     0\n",
              "Terjual/Belum                    0\n",
              "Arah Hadap Rumah                 0\n",
              "Posisi Rumah                     0\n",
              "Lebar Jalan Depan Rumah (ROW)    0\n",
              "dtype: int64"
            ]
          },
          "metadata": {},
          "execution_count": 100
        }
      ]
    },
    {
      "cell_type": "code",
      "source": [
        "from sklearn.preprocessing import LabelEncoder\n",
        "lb = LabelEncoder()\n",
        "df['Area Category'] = lb.fit_transform(df['Area Category'])\n",
        "df['Nama Daerah'] = lb.fit_transform(df['Nama Daerah'])\n",
        "df['Luas Tanah (m2)'] = lb.fit_transform(df['Luas Tanah (m2)'])\n",
        "df['Luas Bangunan (m2)'] = lb.fit_transform(df['Luas Bangunan (m2)'])\n",
        "df['Jumlah Kamar'] = lb.fit_transform(df['Jumlah Kamar'])\n",
        "df['Jumlah Kamar Mandi'] = lb.fit_transform(df['Jumlah Kamar Mandi'])\n",
        "df['Tingkat/Lantai '] = lb.fit_transform(df['Tingkat/Lantai '])\n",
        "df['Harga Penawaran (dari Owner)'] = lb.fit_transform(df['Harga Penawaran (dari Owner)'])\n",
        "df['Terjual/Belum'] = lb.fit_transform(df['Terjual/Belum'])\n",
        "df['Arah Hadap Rumah'] = lb.fit_transform(df['Arah Hadap Rumah'])\n",
        "df['Posisi Rumah'] = lb.fit_transform(df['Posisi Rumah'])\n",
        "df['Lebar Jalan Depan Rumah (ROW)'] = lb.fit_transform(df['Lebar Jalan Depan Rumah (ROW)'])"
      ],
      "metadata": {
        "id": "uopgPU3P6-3k"
      },
      "execution_count": 105,
      "outputs": []
    },
    {
      "cell_type": "code",
      "source": [
        "df['Luas Tanah (m2)'] = df['Luas Tanah (m2)'].astype(int)\n",
        "df['Luas Bangunan (m2)']= df['Luas Bangunan (m2)'].astype(int)\n",
        "df['Tingkat/Lantai ']= df['Tingkat/Lantai '].astype(int)\n",
        "df['Harga Penawaran (dari Owner)'] = df['Harga Penawaran (dari Owner)'].astype(int)"
      ],
      "metadata": {
        "id": "1faRJemR7_N9"
      },
      "execution_count": 106,
      "outputs": []
    },
    {
      "cell_type": "code",
      "source": [
        "from sklearn.preprocessing import StandardScaler\n",
        "sd_scaler = StandardScaler()\n",
        "df_scale = sd_scaler.fit_transform(df.to_numpy())\n",
        "df_scale = pd.DataFrame(df_scale,columns = ['Area Category','Nama Daerah','Luas Tanah (m2)','Luas Bangunan (m2)','Jumlah Kamar','Jumlah Kamar Mandi','Tingkat/Lantai ','Harga Penawaran (dari Owner)','Terjual/Belum','Arah Hadap Rumah','Posisi Rumah','Lebar Jalan Depan Rumah (ROW)'])\n"
      ],
      "metadata": {
        "id": "rrAOIlKJBEAH"
      },
      "execution_count": 111,
      "outputs": []
    },
    {
      "cell_type": "markdown",
      "source": [
        "K Means"
      ],
      "metadata": {
        "id": "BkjJGjULgRwi"
      }
    },
    {
      "cell_type": "code",
      "source": [
        "from sklearn.cluster import KMeans\n",
        "\n",
        "sse = []\n",
        "for k in range(1, 11):\n",
        "    kmeans = KMeans(n_clusters=k)\n",
        "    kmeans.fit(df)\n",
        "    sse.append(kmeans.inertia_)"
      ],
      "metadata": {
        "id": "r6mkwsHpgRas"
      },
      "execution_count": 112,
      "outputs": []
    },
    {
      "cell_type": "code",
      "source": [
        "# using kneelocator to find the elbow/knee\n",
        "!pip install kneed\n",
        "from kneed import KneeLocator\n",
        "kl = KneeLocator(range(1, 11), sse, curve=\"convex\", direction=\"decreasing\")\n",
        "\n",
        "print(\"The best K for your model is\",kl.elbow)"
      ],
      "metadata": {
        "colab": {
          "base_uri": "https://localhost:8080/"
        },
        "id": "cXqOjtXsgf7u",
        "outputId": "e1909300-b92a-422c-e395-59bbc74fa9b4"
      },
      "execution_count": 115,
      "outputs": [
        {
          "output_type": "stream",
          "name": "stdout",
          "text": [
            "Looking in indexes: https://pypi.org/simple, https://us-python.pkg.dev/colab-wheels/public/simple/\n",
            "Collecting kneed\n",
            "  Downloading kneed-0.8.1-py2.py3-none-any.whl (10 kB)\n",
            "Requirement already satisfied: scipy>=1.0.0 in /usr/local/lib/python3.7/dist-packages (from kneed) (1.7.3)\n",
            "Requirement already satisfied: numpy>=1.14.2 in /usr/local/lib/python3.7/dist-packages (from kneed) (1.21.6)\n",
            "Installing collected packages: kneed\n",
            "Successfully installed kneed-0.8.1\n",
            "The best K for your model is 4\n"
          ]
        }
      ]
    },
    {
      "cell_type": "code",
      "source": [
        "kmeans = KMeans(init=\"random\",n_clusters=4,max_iter=300,random_state=42)\n",
        "\n",
        "pred = kmeans.fit_predict(df)\n",
        "pred"
      ],
      "metadata": {
        "colab": {
          "base_uri": "https://localhost:8080/"
        },
        "id": "SRHyy-gYjsuD",
        "outputId": "a8b8c788-7737-41da-f851-6402db60f83a"
      },
      "execution_count": 116,
      "outputs": [
        {
          "output_type": "execute_result",
          "data": {
            "text/plain": [
              "array([2, 2, 0, 0, 3, 1, 1, 2, 3, 1, 3, 2, 2, 2, 2, 2, 1, 1, 2, 1, 2, 1,\n",
              "       2, 0, 2, 2, 2, 0, 1, 0, 1, 1, 0, 0, 0, 0, 2, 2, 0, 2, 1, 1, 1, 1,\n",
              "       2, 1, 1, 1, 3, 3, 3, 1, 3, 3, 0, 3, 1, 3, 2, 2, 3, 3, 2, 1, 3, 2,\n",
              "       2, 1, 2, 2, 1, 0, 2, 1, 0, 0, 1, 2, 1, 1, 2, 1, 1, 2, 0, 1, 1, 3,\n",
              "       2, 2, 2, 2, 2, 2, 1, 3, 2, 1, 2, 1, 2, 2, 2, 1, 1, 2, 1, 1, 2, 2,\n",
              "       2, 2, 2, 2, 2, 2, 2, 0, 2, 1, 0, 2, 2, 2, 2, 1, 2, 2, 1, 0, 2, 1,\n",
              "       0, 1, 2, 0, 1, 0, 0, 0, 2, 0, 0, 0, 0, 0, 2, 0, 0, 0, 0, 3, 1, 1,\n",
              "       1, 0, 1, 0, 0, 3, 0, 2, 3, 2, 3, 2, 2, 3, 3, 3, 0, 1, 3, 0, 0, 1,\n",
              "       0, 1, 1, 0, 2, 0, 2, 0, 3, 1, 1, 3, 0, 1, 2, 1, 0, 0, 3, 1, 1, 2,\n",
              "       1, 2, 3, 3, 1, 3, 2, 0, 2, 3, 2, 0, 0, 3, 3, 3, 0, 3, 0, 0, 3, 0,\n",
              "       0, 0, 0, 0, 0, 0, 0, 0, 0, 2, 2, 3, 1, 0, 3, 0, 0, 3, 0, 1, 2, 1,\n",
              "       1, 0, 1, 3, 0, 0, 1, 1, 1, 2, 2, 1, 1, 0, 0, 0, 2, 2, 1, 2, 1, 1,\n",
              "       1, 1, 0, 0, 2, 0, 3, 0, 1, 2, 3, 0, 0, 3, 1, 0, 0, 1, 2, 0, 0, 2,\n",
              "       0, 1, 1, 0, 2, 1, 2, 3, 0, 0, 2, 0, 3, 1, 2, 3, 2, 1, 2, 1],\n",
              "      dtype=int32)"
            ]
          },
          "metadata": {},
          "execution_count": 116
        }
      ]
    },
    {
      "cell_type": "code",
      "source": [
        "df_new = df.copy(deep = True)\n",
        "df_new.head()\n",
        "df_new['Cluster'] = pred\n",
        "df_new.head(1000)"
      ],
      "metadata": {
        "colab": {
          "base_uri": "https://localhost:8080/",
          "height": 424
        },
        "id": "0LaDeytDjuqO",
        "outputId": "86b29b94-8b97-4c2f-baed-201e5c80a7d4"
      },
      "execution_count": 117,
      "outputs": [
        {
          "output_type": "execute_result",
          "data": {
            "text/plain": [
              "            0         1         2         3         4         5         6  \\\n",
              "0    1.005174 -0.367044 -0.741455 -0.740229  0.454133  0.426973  0.287526   \n",
              "1    0.108430 -0.367044 -0.595414 -0.202422  0.454133  1.067432  0.287526   \n",
              "2   -0.788314 -0.367044  0.218243  1.200551  0.454133  1.067432  0.287526   \n",
              "3   -0.788314 -0.367044  0.614640  1.013488  0.454133  1.707891  0.287526   \n",
              "4   -1.685058 -0.856911  1.782969  1.153785 -1.423768 -1.494404 -1.689622   \n",
              "..        ...       ...       ...       ...       ...       ...       ...   \n",
              "301  1.005174 -0.802482  0.635503  0.265235 -1.423768 -1.494404 -1.689622   \n",
              "302  0.108430  1.184201 -0.032113 -0.529783 -0.171834  0.426973 -1.689622   \n",
              "303 -0.788314  0.313326 -1.534249 -0.950675 -0.171834 -0.853945  0.287526   \n",
              "304  1.005174  1.184201  1.845558 -0.763612 -0.171834 -0.213486  0.287526   \n",
              "305 -1.685058  1.510779 -0.532825  0.101555  0.454133 -0.853945  0.287526   \n",
              "\n",
              "            7    8         9        10        11  Cluster  \n",
              "0   -0.152970  0.0 -0.764298 -3.568871 -0.954160        2  \n",
              "1    0.041168  0.0  1.201040 -0.648886 -0.954160        2  \n",
              "2    0.904002  0.0 -1.746967 -0.648886 -0.954160        0  \n",
              "3   -1.641359  0.0 -1.746967 -0.648886 -0.954160        0  \n",
              "4    0.429443  0.0 -1.746967 -0.648886 -0.954160        3  \n",
              "..        ...  ...       ...       ...       ...      ...  \n",
              "301  0.688294  0.0  1.201040 -0.648886  1.094773        3  \n",
              "302  0.925573  0.0 -0.764298 -0.648886  1.094773        2  \n",
              "303 -0.670670  0.0 -0.764298 -0.648886 -0.954160        1  \n",
              "304 -1.102088  0.0 -0.764298 -0.648886  1.094773        2  \n",
              "305  0.904002  0.0 -0.764298 -0.648886  1.094773        1  \n",
              "\n",
              "[306 rows x 13 columns]"
            ],
            "text/html": [
              "\n",
              "  <div id=\"df-17c4bfab-21a2-446d-8e7b-dcca6c800906\">\n",
              "    <div class=\"colab-df-container\">\n",
              "      <div>\n",
              "<style scoped>\n",
              "    .dataframe tbody tr th:only-of-type {\n",
              "        vertical-align: middle;\n",
              "    }\n",
              "\n",
              "    .dataframe tbody tr th {\n",
              "        vertical-align: top;\n",
              "    }\n",
              "\n",
              "    .dataframe thead th {\n",
              "        text-align: right;\n",
              "    }\n",
              "</style>\n",
              "<table border=\"1\" class=\"dataframe\">\n",
              "  <thead>\n",
              "    <tr style=\"text-align: right;\">\n",
              "      <th></th>\n",
              "      <th>0</th>\n",
              "      <th>1</th>\n",
              "      <th>2</th>\n",
              "      <th>3</th>\n",
              "      <th>4</th>\n",
              "      <th>5</th>\n",
              "      <th>6</th>\n",
              "      <th>7</th>\n",
              "      <th>8</th>\n",
              "      <th>9</th>\n",
              "      <th>10</th>\n",
              "      <th>11</th>\n",
              "      <th>Cluster</th>\n",
              "    </tr>\n",
              "  </thead>\n",
              "  <tbody>\n",
              "    <tr>\n",
              "      <th>0</th>\n",
              "      <td>1.005174</td>\n",
              "      <td>-0.367044</td>\n",
              "      <td>-0.741455</td>\n",
              "      <td>-0.740229</td>\n",
              "      <td>0.454133</td>\n",
              "      <td>0.426973</td>\n",
              "      <td>0.287526</td>\n",
              "      <td>-0.152970</td>\n",
              "      <td>0.0</td>\n",
              "      <td>-0.764298</td>\n",
              "      <td>-3.568871</td>\n",
              "      <td>-0.954160</td>\n",
              "      <td>2</td>\n",
              "    </tr>\n",
              "    <tr>\n",
              "      <th>1</th>\n",
              "      <td>0.108430</td>\n",
              "      <td>-0.367044</td>\n",
              "      <td>-0.595414</td>\n",
              "      <td>-0.202422</td>\n",
              "      <td>0.454133</td>\n",
              "      <td>1.067432</td>\n",
              "      <td>0.287526</td>\n",
              "      <td>0.041168</td>\n",
              "      <td>0.0</td>\n",
              "      <td>1.201040</td>\n",
              "      <td>-0.648886</td>\n",
              "      <td>-0.954160</td>\n",
              "      <td>2</td>\n",
              "    </tr>\n",
              "    <tr>\n",
              "      <th>2</th>\n",
              "      <td>-0.788314</td>\n",
              "      <td>-0.367044</td>\n",
              "      <td>0.218243</td>\n",
              "      <td>1.200551</td>\n",
              "      <td>0.454133</td>\n",
              "      <td>1.067432</td>\n",
              "      <td>0.287526</td>\n",
              "      <td>0.904002</td>\n",
              "      <td>0.0</td>\n",
              "      <td>-1.746967</td>\n",
              "      <td>-0.648886</td>\n",
              "      <td>-0.954160</td>\n",
              "      <td>0</td>\n",
              "    </tr>\n",
              "    <tr>\n",
              "      <th>3</th>\n",
              "      <td>-0.788314</td>\n",
              "      <td>-0.367044</td>\n",
              "      <td>0.614640</td>\n",
              "      <td>1.013488</td>\n",
              "      <td>0.454133</td>\n",
              "      <td>1.707891</td>\n",
              "      <td>0.287526</td>\n",
              "      <td>-1.641359</td>\n",
              "      <td>0.0</td>\n",
              "      <td>-1.746967</td>\n",
              "      <td>-0.648886</td>\n",
              "      <td>-0.954160</td>\n",
              "      <td>0</td>\n",
              "    </tr>\n",
              "    <tr>\n",
              "      <th>4</th>\n",
              "      <td>-1.685058</td>\n",
              "      <td>-0.856911</td>\n",
              "      <td>1.782969</td>\n",
              "      <td>1.153785</td>\n",
              "      <td>-1.423768</td>\n",
              "      <td>-1.494404</td>\n",
              "      <td>-1.689622</td>\n",
              "      <td>0.429443</td>\n",
              "      <td>0.0</td>\n",
              "      <td>-1.746967</td>\n",
              "      <td>-0.648886</td>\n",
              "      <td>-0.954160</td>\n",
              "      <td>3</td>\n",
              "    </tr>\n",
              "    <tr>\n",
              "      <th>...</th>\n",
              "      <td>...</td>\n",
              "      <td>...</td>\n",
              "      <td>...</td>\n",
              "      <td>...</td>\n",
              "      <td>...</td>\n",
              "      <td>...</td>\n",
              "      <td>...</td>\n",
              "      <td>...</td>\n",
              "      <td>...</td>\n",
              "      <td>...</td>\n",
              "      <td>...</td>\n",
              "      <td>...</td>\n",
              "      <td>...</td>\n",
              "    </tr>\n",
              "    <tr>\n",
              "      <th>301</th>\n",
              "      <td>1.005174</td>\n",
              "      <td>-0.802482</td>\n",
              "      <td>0.635503</td>\n",
              "      <td>0.265235</td>\n",
              "      <td>-1.423768</td>\n",
              "      <td>-1.494404</td>\n",
              "      <td>-1.689622</td>\n",
              "      <td>0.688294</td>\n",
              "      <td>0.0</td>\n",
              "      <td>1.201040</td>\n",
              "      <td>-0.648886</td>\n",
              "      <td>1.094773</td>\n",
              "      <td>3</td>\n",
              "    </tr>\n",
              "    <tr>\n",
              "      <th>302</th>\n",
              "      <td>0.108430</td>\n",
              "      <td>1.184201</td>\n",
              "      <td>-0.032113</td>\n",
              "      <td>-0.529783</td>\n",
              "      <td>-0.171834</td>\n",
              "      <td>0.426973</td>\n",
              "      <td>-1.689622</td>\n",
              "      <td>0.925573</td>\n",
              "      <td>0.0</td>\n",
              "      <td>-0.764298</td>\n",
              "      <td>-0.648886</td>\n",
              "      <td>1.094773</td>\n",
              "      <td>2</td>\n",
              "    </tr>\n",
              "    <tr>\n",
              "      <th>303</th>\n",
              "      <td>-0.788314</td>\n",
              "      <td>0.313326</td>\n",
              "      <td>-1.534249</td>\n",
              "      <td>-0.950675</td>\n",
              "      <td>-0.171834</td>\n",
              "      <td>-0.853945</td>\n",
              "      <td>0.287526</td>\n",
              "      <td>-0.670670</td>\n",
              "      <td>0.0</td>\n",
              "      <td>-0.764298</td>\n",
              "      <td>-0.648886</td>\n",
              "      <td>-0.954160</td>\n",
              "      <td>1</td>\n",
              "    </tr>\n",
              "    <tr>\n",
              "      <th>304</th>\n",
              "      <td>1.005174</td>\n",
              "      <td>1.184201</td>\n",
              "      <td>1.845558</td>\n",
              "      <td>-0.763612</td>\n",
              "      <td>-0.171834</td>\n",
              "      <td>-0.213486</td>\n",
              "      <td>0.287526</td>\n",
              "      <td>-1.102088</td>\n",
              "      <td>0.0</td>\n",
              "      <td>-0.764298</td>\n",
              "      <td>-0.648886</td>\n",
              "      <td>1.094773</td>\n",
              "      <td>2</td>\n",
              "    </tr>\n",
              "    <tr>\n",
              "      <th>305</th>\n",
              "      <td>-1.685058</td>\n",
              "      <td>1.510779</td>\n",
              "      <td>-0.532825</td>\n",
              "      <td>0.101555</td>\n",
              "      <td>0.454133</td>\n",
              "      <td>-0.853945</td>\n",
              "      <td>0.287526</td>\n",
              "      <td>0.904002</td>\n",
              "      <td>0.0</td>\n",
              "      <td>-0.764298</td>\n",
              "      <td>-0.648886</td>\n",
              "      <td>1.094773</td>\n",
              "      <td>1</td>\n",
              "    </tr>\n",
              "  </tbody>\n",
              "</table>\n",
              "<p>306 rows × 13 columns</p>\n",
              "</div>\n",
              "      <button class=\"colab-df-convert\" onclick=\"convertToInteractive('df-17c4bfab-21a2-446d-8e7b-dcca6c800906')\"\n",
              "              title=\"Convert this dataframe to an interactive table.\"\n",
              "              style=\"display:none;\">\n",
              "        \n",
              "  <svg xmlns=\"http://www.w3.org/2000/svg\" height=\"24px\"viewBox=\"0 0 24 24\"\n",
              "       width=\"24px\">\n",
              "    <path d=\"M0 0h24v24H0V0z\" fill=\"none\"/>\n",
              "    <path d=\"M18.56 5.44l.94 2.06.94-2.06 2.06-.94-2.06-.94-.94-2.06-.94 2.06-2.06.94zm-11 1L8.5 8.5l.94-2.06 2.06-.94-2.06-.94L8.5 2.5l-.94 2.06-2.06.94zm10 10l.94 2.06.94-2.06 2.06-.94-2.06-.94-.94-2.06-.94 2.06-2.06.94z\"/><path d=\"M17.41 7.96l-1.37-1.37c-.4-.4-.92-.59-1.43-.59-.52 0-1.04.2-1.43.59L10.3 9.45l-7.72 7.72c-.78.78-.78 2.05 0 2.83L4 21.41c.39.39.9.59 1.41.59.51 0 1.02-.2 1.41-.59l7.78-7.78 2.81-2.81c.8-.78.8-2.07 0-2.86zM5.41 20L4 18.59l7.72-7.72 1.47 1.35L5.41 20z\"/>\n",
              "  </svg>\n",
              "      </button>\n",
              "      \n",
              "  <style>\n",
              "    .colab-df-container {\n",
              "      display:flex;\n",
              "      flex-wrap:wrap;\n",
              "      gap: 12px;\n",
              "    }\n",
              "\n",
              "    .colab-df-convert {\n",
              "      background-color: #E8F0FE;\n",
              "      border: none;\n",
              "      border-radius: 50%;\n",
              "      cursor: pointer;\n",
              "      display: none;\n",
              "      fill: #1967D2;\n",
              "      height: 32px;\n",
              "      padding: 0 0 0 0;\n",
              "      width: 32px;\n",
              "    }\n",
              "\n",
              "    .colab-df-convert:hover {\n",
              "      background-color: #E2EBFA;\n",
              "      box-shadow: 0px 1px 2px rgba(60, 64, 67, 0.3), 0px 1px 3px 1px rgba(60, 64, 67, 0.15);\n",
              "      fill: #174EA6;\n",
              "    }\n",
              "\n",
              "    [theme=dark] .colab-df-convert {\n",
              "      background-color: #3B4455;\n",
              "      fill: #D2E3FC;\n",
              "    }\n",
              "\n",
              "    [theme=dark] .colab-df-convert:hover {\n",
              "      background-color: #434B5C;\n",
              "      box-shadow: 0px 1px 3px 1px rgba(0, 0, 0, 0.15);\n",
              "      filter: drop-shadow(0px 1px 2px rgba(0, 0, 0, 0.3));\n",
              "      fill: #FFFFFF;\n",
              "    }\n",
              "  </style>\n",
              "\n",
              "      <script>\n",
              "        const buttonEl =\n",
              "          document.querySelector('#df-17c4bfab-21a2-446d-8e7b-dcca6c800906 button.colab-df-convert');\n",
              "        buttonEl.style.display =\n",
              "          google.colab.kernel.accessAllowed ? 'block' : 'none';\n",
              "\n",
              "        async function convertToInteractive(key) {\n",
              "          const element = document.querySelector('#df-17c4bfab-21a2-446d-8e7b-dcca6c800906');\n",
              "          const dataTable =\n",
              "            await google.colab.kernel.invokeFunction('convertToInteractive',\n",
              "                                                     [key], {});\n",
              "          if (!dataTable) return;\n",
              "\n",
              "          const docLinkHtml = 'Like what you see? Visit the ' +\n",
              "            '<a target=\"_blank\" href=https://colab.research.google.com/notebooks/data_table.ipynb>data table notebook</a>'\n",
              "            + ' to learn more about interactive tables.';\n",
              "          element.innerHTML = '';\n",
              "          dataTable['output_type'] = 'display_data';\n",
              "          await google.colab.output.renderOutput(dataTable, element);\n",
              "          const docLink = document.createElement('div');\n",
              "          docLink.innerHTML = docLinkHtml;\n",
              "          element.appendChild(docLink);\n",
              "        }\n",
              "      </script>\n",
              "    </div>\n",
              "  </div>\n",
              "  "
            ]
          },
          "metadata": {},
          "execution_count": 117
        }
      ]
    },
    {
      "cell_type": "code",
      "source": [
        "df_new.groupby(['Cluster'])"
      ],
      "metadata": {
        "colab": {
          "base_uri": "https://localhost:8080/"
        },
        "id": "zkWe0Hn1j0Et",
        "outputId": "452d3165-8735-4c3a-fe3b-fb2dc5336223"
      },
      "execution_count": 118,
      "outputs": [
        {
          "output_type": "execute_result",
          "data": {
            "text/plain": [
              "<pandas.core.groupby.generic.DataFrameGroupBy object at 0x7f0b61872210>"
            ]
          },
          "metadata": {},
          "execution_count": 118
        }
      ]
    },
    {
      "cell_type": "markdown",
      "source": [
        "Dendogram Ward"
      ],
      "metadata": {
        "id": "zhIAPDtmmm9J"
      }
    },
    {
      "cell_type": "code",
      "source": [
        "from sklearn.cluster import AgglomerativeClustering # this line of code imports AgglomerativeClustering model from sk-learn\n",
        "Agg_hc = AgglomerativeClustering(n_clusters = 4, affinity = 'euclidean', linkage = 'ward')\n",
        "y_hc = Agg_hc.fit_predict(df) # model fitting on the dataset"
      ],
      "metadata": {
        "id": "oOPLjnaMj5Sd"
      },
      "execution_count": 125,
      "outputs": []
    },
    {
      "cell_type": "code",
      "source": [
        "import matplotlib.pyplot as plt\n",
        "import scipy.cluster.hierarchy as sch # importing scipy.cluster.hierarchy for dendrogram\n",
        "dendrogram = sch.dendrogram(sch.linkage(df, method = 'ward')) # finding the optimal number of clusters using dendrogram\n",
        "plt.title('Dendrogram') # title of the dendrogram\n",
        "plt.show() # show the dendrogram"
      ],
      "metadata": {
        "colab": {
          "base_uri": "https://localhost:8080/",
          "height": 281
        },
        "id": "1XFrLjK8j5VV",
        "outputId": "f8a22f55-3ef9-4ee9-a17a-333f697532ab"
      },
      "execution_count": 126,
      "outputs": [
        {
          "output_type": "display_data",
          "data": {
            "text/plain": [
              "<Figure size 432x288 with 1 Axes>"
            ],
            "image/png": "[encoded data removed]"
          },
          "metadata": {
            "needs_background": "light"
          }
        }
      ]
    },
    {
      "cell_type": "markdown",
      "source": [
        "Dendogram Single"
      ],
      "metadata": {
        "id": "v0HKfLJcoBpu"
      }
    },
    {
      "cell_type": "code",
      "source": [
        "from sklearn.cluster import AgglomerativeClustering # this line of code imports AgglomerativeClustering model from sk-learn\n",
        "Agg_hc = AgglomerativeClustering(n_clusters = 4, affinity = 'euclidean', linkage = 'single')\n",
        "y_hc = Agg_hc.fit_predict(df) # model fitting on the dataset"
      ],
      "metadata": {
        "id": "dy_4u-lIog4c"
      },
      "execution_count": 123,
      "outputs": []
    },
    {
      "cell_type": "code",
      "source": [
        "import matplotlib.pyplot as plt\n",
        "import scipy.cluster.hierarchy as sch # importing scipy.cluster.hierarchy for dendrogram\n",
        "dendrogram = sch.dendrogram(sch.linkage(df, method = 'single')) # finding the optimal number of clusters using dendrogram\n",
        "plt.title('Dendrogram') # title of the dendrogram\n",
        "plt.show() # show the dendrogram"
      ],
      "metadata": {
        "colab": {
          "base_uri": "https://localhost:8080/",
          "height": 281
        },
        "id": "ZzEvea9Cog_5",
        "outputId": "741eaaae-a10e-47cd-face-9cdea3945f8b"
      },
      "execution_count": 127,
      "outputs": [
        {
          "output_type": "display_data",
          "data": {
            "text/plain": [
              "<Figure size 432x288 with 1 Axes>"
            ],
            "image/png": "[encoded data removed]"
          },
          "metadata": {
            "needs_background": "light"
          }
        }
      ]
    },
    {
      "cell_type": "markdown",
      "source": [
        "Dendogram Complete"
      ],
      "metadata": {
        "id": "Xgi871B0pOwm"
      }
    },
    {
      "cell_type": "code",
      "source": [
        "from sklearn.cluster import AgglomerativeClustering # this line of code imports AgglomerativeClustering model from sk-learn\n",
        "Agg_hc = AgglomerativeClustering(n_clusters = 4, affinity = 'euclidean', linkage = 'complete')\n",
        "y_hc = Agg_hc.fit_predict(df) # model fitting on the dataset"
      ],
      "metadata": {
        "id": "sSQzxIiSpO4-"
      },
      "execution_count": 128,
      "outputs": []
    },
    {
      "cell_type": "code",
      "source": [
        "import matplotlib.pyplot as plt\n",
        "import scipy.cluster.hierarchy as sch # importing scipy.cluster.hierarchy for dendrogram\n",
        "dendrogram = sch.dendrogram(sch.linkage(df, method = 'complete')) # finding the optimal number of clusters using dendrogram\n",
        "plt.title('Dendrogram') # title of the dendrogram\n",
        "plt.show() # show the dendrogram"
      ],
      "metadata": {
        "colab": {
          "base_uri": "https://localhost:8080/",
          "height": 281
        },
        "id": "wvDrG7B_pO8E",
        "outputId": "d2600349-da81-4059-f4b1-5cd8eb2152be"
      },
      "execution_count": 129,
      "outputs": [
        {
          "output_type": "display_data",
          "data": {
            "text/plain": [
              "<Figure size 432x288 with 1 Axes>"
            ],
            "image/png": "[encoded data removed]"
          },
          "metadata": {
            "needs_background": "light"
          }
        }
      ]
    },
    {
      "cell_type": "markdown",
      "source": [
        "Dendogram Average"
      ],
      "metadata": {
        "id": "ETy4h-gjpq8Q"
      }
    },
    {
      "cell_type": "code",
      "source": [
        "from sklearn.cluster import AgglomerativeClustering # this line of code imports AgglomerativeClustering model from sk-learn\n",
        "Agg_hc = AgglomerativeClustering(n_clusters = 4, affinity = 'euclidean', linkage = 'average')\n",
        "y_hc = Agg_hc.fit_predict(df) # model fitting on the dataset"
      ],
      "metadata": {
        "id": "-MuSjLlHprDc"
      },
      "execution_count": 130,
      "outputs": []
    },
    {
      "cell_type": "code",
      "source": [
        "import matplotlib.pyplot as plt\n",
        "import scipy.cluster.hierarchy as sch # importing scipy.cluster.hierarchy for dendrogram\n",
        "dendrogram = sch.dendrogram(sch.linkage(df, method = 'average')) # finding the optimal number of clusters using dendrogram\n",
        "plt.title('Dendrogram') # title of the dendrogram\n",
        "plt.show() # show the dendrogram"
      ],
      "metadata": {
        "colab": {
          "base_uri": "https://localhost:8080/",
          "height": 281
        },
        "id": "fit8cTV6prF5",
        "outputId": "9c7c07c6-82d5-4c4e-eb54-66e6948640ce"
      },
      "execution_count": 131,
      "outputs": [
        {
          "output_type": "display_data",
          "data": {
            "text/plain": [
              "<Figure size 432x288 with 1 Axes>"
            ],
            "image/png": "[encoded data removed]"
          },
          "metadata": {
            "needs_background": "light"
          }
        }
      ]
    },
    {
      "cell_type": "markdown",
      "source": [
        "hierarchical clustering dengan metric Euclidean dan jumlah cluster sama dengan cluster Kmeans"
      ],
      "metadata": {
        "id": "bzSPefN9qwVj"
      }
    },
    {
      "cell_type": "code",
      "source": [
        "model = AgglomerativeClustering(n_clusters = 4, affinity = 'euclidean', linkage = 'average')\n",
        "model.fit(df) \n",
        "labels = model.labels_\n",
        "labels"
      ],
      "metadata": {
        "colab": {
          "base_uri": "https://localhost:8080/"
        },
        "id": "aBXTFl7Rqx_U",
        "outputId": "f27be24c-c392-4ecb-d97b-90ee4d9f27a5"
      },
      "execution_count": 133,
      "outputs": [
        {
          "output_type": "execute_result",
          "data": {
            "text/plain": [
              "array([1, 0, 0, 0, 0, 0, 0, 0, 0, 0, 0, 0, 0, 0, 0, 0, 0, 0, 0, 0, 0, 0,\n",
              "       0, 0, 0, 0, 0, 0, 0, 0, 0, 0, 0, 0, 0, 0, 0, 0, 0, 0, 0, 0, 0, 0,\n",
              "       0, 0, 0, 0, 0, 0, 0, 0, 0, 0, 0, 0, 0, 0, 0, 0, 0, 0, 0, 0, 0, 0,\n",
              "       0, 0, 0, 0, 0, 0, 0, 0, 0, 0, 0, 0, 0, 0, 0, 0, 0, 0, 0, 0, 0, 0,\n",
              "       0, 0, 0, 0, 0, 0, 0, 0, 0, 0, 0, 0, 0, 0, 0, 0, 0, 0, 0, 0, 0, 0,\n",
              "       0, 0, 0, 0, 0, 0, 0, 2, 0, 0, 0, 0, 0, 0, 0, 0, 0, 0, 0, 0, 0, 0,\n",
              "       0, 0, 0, 0, 0, 0, 0, 0, 0, 2, 0, 0, 0, 0, 0, 0, 0, 0, 0, 0, 0, 0,\n",
              "       0, 0, 0, 0, 0, 0, 0, 0, 0, 0, 0, 0, 0, 0, 0, 0, 0, 0, 0, 0, 0, 0,\n",
              "       0, 0, 0, 0, 0, 0, 0, 0, 0, 0, 0, 0, 0, 0, 0, 0, 0, 0, 0, 0, 0, 0,\n",
              "       0, 0, 0, 0, 0, 0, 0, 0, 1, 0, 0, 2, 0, 0, 0, 0, 3, 0, 0, 0, 0, 0,\n",
              "       0, 0, 0, 0, 0, 0, 0, 0, 0, 0, 0, 0, 0, 0, 0, 0, 0, 0, 0, 0, 0, 0,\n",
              "       0, 0, 0, 0, 0, 0, 0, 0, 0, 0, 0, 0, 0, 0, 0, 2, 0, 0, 0, 0, 0, 0,\n",
              "       0, 0, 0, 0, 0, 0, 0, 2, 0, 0, 0, 0, 0, 0, 0, 0, 0, 0, 0, 0, 0, 0,\n",
              "       2, 0, 0, 2, 0, 0, 0, 0, 0, 2, 0, 2, 0, 0, 0, 0, 0, 0, 0, 0])"
            ]
          },
          "metadata": {},
          "execution_count": 133
        }
      ]
    }
  ]
}